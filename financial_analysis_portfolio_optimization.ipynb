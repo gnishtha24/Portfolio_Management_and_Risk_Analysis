{
 "cells": [
  {
   "cell_type": "markdown",
   "id": "3fc4b11b",
   "metadata": {},
   "source": [
    "Import Necessary Libraries and Load Data\n",
    " Calculate Annualized Returns and Covariance Matrix"
   ]
  },
  {
   "cell_type": "code",
   "execution_count": 116,
   "id": "09349bc7",
   "metadata": {},
   "outputs": [
    {
     "name": "stdout",
     "output_type": "stream",
     "text": [
      "The autoreload extension is already loaded. To reload it, use:\n",
      "  %reload_ext autoreload\n"
     ]
    },
    {
     "data": {
      "text/plain": [
       "Index(['colgate', 'dabur', 'EPL', 'welspun india', 'CCL Products',\n",
       "       'Brigade enterprises', 'WIPRO', 'Crisil', '3M india', 'Suzlon energy'],\n",
       "      dtype='object')"
      ]
     },
     "execution_count": 116,
     "metadata": {},
     "output_type": "execute_result"
    }
   ],
   "source": [
    "import pandas as pd\n",
    "import numpy as np\n",
    "import risk_kit_nishtha as rk\n",
    "import matplotlib.pyplot as plt\n",
    "import math\n",
    "\n",
    "%load_ext autoreload\n",
    "%autoreload \n",
    "%matplotlib inline\n",
    "\n",
    "ind=pd.read_csv(\"Book3.csv\")\n",
    "ind.set_index('Date',inplace=True)\n",
    "er=rk.annualised_return(ind,12)\n",
    "cov=ind.cov()\n ",
    "\n",
    "ind.columns.str.strip()"
   ]
  },
  {
   "cell_type": "code",
   "execution_count": 117,
   "id": "722cb6ad",
   "metadata": {},
   "outputs": [
    {
     "data": {
      "text/plain": [
       "colgate                0.048949\n",
       "dabur                  0.182292\n",
       "EPL                    0.204510\n",
       "welspun india          0.238145\n",
       "CCL Products           0.282374\n",
       "Brigade enterprises    0.137377\n",
       "WIPRO                  0.101769\n",
       "Crisil                 0.168804\n",
       "3M india               0.208396\n",
       "Suzlon energy         -0.176133\n",
       "dtype: float64"
      ]
     },
     "execution_count": 117,
     "metadata": {},
     "output_type": "execute_result"
    }
   ],
   "source": [
    "er"
   ]
  },
  {
   "cell_type": "code",
   "execution_count": 118,
   "id": "db0fc9f1",
   "metadata": {},
   "outputs": [
    {
     "data": {
      "text/html": [
       "<div>\n",
       "<style scoped>\n",
       "    .dataframe tbody tr th:only-of-type {\n",
       "        vertical-align: middle;\n",
       "    }\n",
       "\n",
       "    .dataframe tbody tr th {\n",
       "        vertical-align: top;\n",
       "    }\n",
       "\n",
       "    .dataframe thead th {\n",
       "        text-align: right;\n",
       "    }\n",
       "</style>\n",
       "<table border=\"1\" class=\"dataframe\">\n",
       "  <thead>\n",
       "    <tr style=\"text-align: right;\">\n",
       "      <th></th>\n",
       "      <th>colgate</th>\n",
       "      <th>dabur</th>\n",
       "      <th>EPL</th>\n",
       "      <th>welspun india</th>\n",
       "      <th>CCL Products</th>\n",
       "      <th>Brigade enterprises</th>\n",
       "      <th>WIPRO</th>\n",
       "      <th>Crisil</th>\n",
       "      <th>3M india</th>\n",
       "      <th>Suzlon energy</th>\n",
       "    </tr>\n",
       "  </thead>\n",
       "  <tbody>\n",
       "    <tr>\n",
       "      <th>colgate</th>\n",
       "      <td>0.002017</td>\n",
       "      <td>0.000473</td>\n",
       "      <td>0.001148</td>\n",
       "      <td>0.001157</td>\n",
       "      <td>0.001491</td>\n",
       "      <td>0.001371</td>\n",
       "      <td>0.000928</td>\n",
       "      <td>0.000335</td>\n",
       "      <td>0.001073</td>\n",
       "      <td>0.002506</td>\n",
       "    </tr>\n",
       "    <tr>\n",
       "      <th>dabur</th>\n",
       "      <td>0.000473</td>\n",
       "      <td>0.003353</td>\n",
       "      <td>0.000768</td>\n",
       "      <td>0.001098</td>\n",
       "      <td>0.002010</td>\n",
       "      <td>0.001229</td>\n",
       "      <td>0.001016</td>\n",
       "      <td>0.000986</td>\n",
       "      <td>0.001479</td>\n",
       "      <td>0.001894</td>\n",
       "    </tr>\n",
       "    <tr>\n",
       "      <th>EPL</th>\n",
       "      <td>0.001148</td>\n",
       "      <td>0.000768</td>\n",
       "      <td>0.007823</td>\n",
       "      <td>0.000465</td>\n",
       "      <td>0.002257</td>\n",
       "      <td>0.002348</td>\n",
       "      <td>0.002106</td>\n",
       "      <td>0.000698</td>\n",
       "      <td>0.001679</td>\n",
       "      <td>0.004400</td>\n",
       "    </tr>\n",
       "    <tr>\n",
       "      <th>welspun india</th>\n",
       "      <td>0.001157</td>\n",
       "      <td>0.001098</td>\n",
       "      <td>0.000465</td>\n",
       "      <td>0.032701</td>\n",
       "      <td>0.011045</td>\n",
       "      <td>0.012943</td>\n",
       "      <td>0.004800</td>\n",
       "      <td>0.003356</td>\n",
       "      <td>0.003226</td>\n",
       "      <td>0.010966</td>\n",
       "    </tr>\n",
       "    <tr>\n",
       "      <th>CCL Products</th>\n",
       "      <td>0.001491</td>\n",
       "      <td>0.002010</td>\n",
       "      <td>0.002257</td>\n",
       "      <td>0.011045</td>\n",
       "      <td>0.018628</td>\n",
       "      <td>0.010784</td>\n",
       "      <td>0.002773</td>\n",
       "      <td>0.003000</td>\n",
       "      <td>0.004388</td>\n",
       "      <td>0.009792</td>\n",
       "    </tr>\n",
       "    <tr>\n",
       "      <th>Brigade enterprises</th>\n",
       "      <td>0.001371</td>\n",
       "      <td>0.001229</td>\n",
       "      <td>0.002348</td>\n",
       "      <td>0.012943</td>\n",
       "      <td>0.010784</td>\n",
       "      <td>0.024709</td>\n",
       "      <td>0.003534</td>\n",
       "      <td>0.003668</td>\n",
       "      <td>0.005373</td>\n",
       "      <td>0.015833</td>\n",
       "    </tr>\n",
       "    <tr>\n",
       "      <th>WIPRO</th>\n",
       "      <td>0.000928</td>\n",
       "      <td>0.001016</td>\n",
       "      <td>0.002106</td>\n",
       "      <td>0.004800</td>\n",
       "      <td>0.002773</td>\n",
       "      <td>0.003534</td>\n",
       "      <td>0.007416</td>\n",
       "      <td>0.001884</td>\n",
       "      <td>0.001727</td>\n",
       "      <td>0.004465</td>\n",
       "    </tr>\n",
       "    <tr>\n",
       "      <th>Crisil</th>\n",
       "      <td>0.000335</td>\n",
       "      <td>0.000986</td>\n",
       "      <td>0.000698</td>\n",
       "      <td>0.003356</td>\n",
       "      <td>0.003000</td>\n",
       "      <td>0.003668</td>\n",
       "      <td>0.001884</td>\n",
       "      <td>0.006366</td>\n",
       "      <td>0.001156</td>\n",
       "      <td>0.003905</td>\n",
       "    </tr>\n",
       "    <tr>\n",
       "      <th>3M india</th>\n",
       "      <td>0.001073</td>\n",
       "      <td>0.001479</td>\n",
       "      <td>0.001679</td>\n",
       "      <td>0.003226</td>\n",
       "      <td>0.004388</td>\n",
       "      <td>0.005373</td>\n",
       "      <td>0.001727</td>\n",
       "      <td>0.001156</td>\n",
       "      <td>0.008309</td>\n",
       "      <td>0.005626</td>\n",
       "    </tr>\n",
       "    <tr>\n",
       "      <th>Suzlon energy</th>\n",
       "      <td>0.002506</td>\n",
       "      <td>0.001894</td>\n",
       "      <td>0.004400</td>\n",
       "      <td>0.010966</td>\n",
       "      <td>0.009792</td>\n",
       "      <td>0.015833</td>\n",
       "      <td>0.004465</td>\n",
       "      <td>0.003905</td>\n",
       "      <td>0.005626</td>\n",
       "      <td>0.047334</td>\n",
       "    </tr>\n",
       "  </tbody>\n",
       "</table>\n",
       "</div>"
      ],
      "text/plain": [
       "                      colgate     dabur       EPL  welspun india  \\\n",
       "colgate              0.002017  0.000473  0.001148       0.001157   \n",
       "dabur                0.000473  0.003353  0.000768       0.001098   \n",
       "EPL                  0.001148  0.000768  0.007823       0.000465   \n",
       "welspun india        0.001157  0.001098  0.000465       0.032701   \n",
       "CCL Products         0.001491  0.002010  0.002257       0.011045   \n",
       "Brigade enterprises  0.001371  0.001229  0.002348       0.012943   \n",
       "WIPRO                0.000928  0.001016  0.002106       0.004800   \n",
       "Crisil               0.000335  0.000986  0.000698       0.003356   \n",
       "3M india             0.001073  0.001479  0.001679       0.003226   \n",
       "Suzlon energy        0.002506  0.001894  0.004400       0.010966   \n",
       "\n",
       "                     CCL Products  Brigade enterprises     WIPRO    Crisil  \\\n",
       "colgate                  0.001491             0.001371  0.000928  0.000335   \n",
       "dabur                    0.002010             0.001229  0.001016  0.000986   \n",
       "EPL                      0.002257             0.002348  0.002106  0.000698   \n",
       "welspun india            0.011045             0.012943  0.004800  0.003356   \n",
       "CCL Products             0.018628             0.010784  0.002773  0.003000   \n",
       "Brigade enterprises      0.010784             0.024709  0.003534  0.003668   \n",
       "WIPRO                    0.002773             0.003534  0.007416  0.001884   \n",
       "Crisil                   0.003000             0.003668  0.001884  0.006366   \n",
       "3M india                 0.004388             0.005373  0.001727  0.001156   \n",
       "Suzlon energy            0.009792             0.015833  0.004465  0.003905   \n",
       "\n",
       "                     3M india  Suzlon energy  \n",
       "colgate              0.001073       0.002506  \n",
       "dabur                0.001479       0.001894  \n",
       "EPL                  0.001679       0.004400  \n",
       "welspun india        0.003226       0.010966  \n",
       "CCL Products         0.004388       0.009792  \n",
       "Brigade enterprises  0.005373       0.015833  \n",
       "WIPRO                0.001727       0.004465  \n",
       "Crisil               0.001156       0.003905  \n",
       "3M india             0.008309       0.005626  \n",
       "Suzlon energy        0.005626       0.047334  "
      ]
     },
     "execution_count": 118,
     "metadata": {},
     "output_type": "execute_result"
    }
   ],
   "source": [
    "cov"
   ]
  },
  {
   "cell_type": "markdown",
   "id": "4eab8a96",
   "metadata": {},
   "source": [
    "Equal Weight Portfolio Return and Plot Efficient Frontier"
   ]
  },
  {
   "cell_type": "code",
   "execution_count": 119,
   "id": "e5676b10",
   "metadata": {},
   "outputs": [
    {
     "data": {
      "text/plain": [
       "0.13964835556954494"
      ]
     },
     "execution_count": 119,
     "metadata": {},
     "output_type": "execute_result"
    }
   ],
   "source": [
    "ew= np.repeat(0.1,10)\n",
    "rk.portfolio_return(ew,er)"
   ]
  },
  {
   "cell_type": "code",
   "execution_count": 120,
   "id": "db4eae7b",
   "metadata": {},
   "outputs": [
    {
     "data": {
      "text/plain": [
       "<Axes: xlabel='Volatility'>"
      ]
     },
     "execution_count": 120,
     "metadata": {},
     "output_type": "execute_result"
    },
    {
     "data": {
      "image/png": "[encoded data removed]",
      "text/plain": [
       "<Figure size 640x480 with 1 Axes>"
      ]
     },
     "metadata": {},
     "output_type": "display_data"
    }
   ],
   "source": [
    "rk.plot_ef(50,er,cov)"
   ]
  },
  {
   "cell_type": "markdown",
   "id": "a74d4e40",
   "metadata": {},
   "source": [
    "Portfolio Volatility and Maximum Sharpe Ratio (MSR) Portfolio"
   ]
  },
  {
   "cell_type": "code",
   "execution_count": 121,
   "id": "ab8b7126",
   "metadata": {},
   "outputs": [
    {
     "data": {
      "text/plain": [
       "0.004769700389131222"
      ]
     },
     "execution_count": 121,
     "metadata": {},
     "output_type": "execute_result"
    }
   ],
   "source": [
    "rk.portfolio_vol(ew,cov)"
   ]
  },
  {
   "cell_type": "code",
   "execution_count": 122,
   "id": "6db3c443",
   "metadata": {},
   "outputs": [],
   "source": [
    "weights_msr= rk.msr(0.03,er,cov)\n",
    "r_msr = rk.portfolio_return(weights_msr , er)\n",
    "vol_msr = rk.portfolio_vol(weights_msr , cov)\n"
   ]
  },
  {
   "cell_type": "code",
   "execution_count": 123,
   "id": "4a9e94d9",
   "metadata": {},
   "outputs": [
    {
     "data": {
      "text/plain": [
       "0.15817308686766077"
      ]
     },
     "execution_count": 123,
     "metadata": {},
     "output_type": "execute_result"
    }
   ],
   "source": [
    "r_msr"
   ]
  },
  {
   "cell_type": "code",
   "execution_count": 124,
   "id": "61774139",
   "metadata": {},
   "outputs": [
    {
     "data": {
      "text/plain": [
       "0.0016399783292357483"
      ]
     },
     "execution_count": 124,
     "metadata": {},
     "output_type": "execute_result"
    }
   ],
   "source": [
    "vol_msr"
   ]
  },
  {
   "cell_type": "code",
   "execution_count": 125,
   "id": "eb9ba2f0",
   "metadata": {},
   "outputs": [
    {
     "data": {
      "text/plain": [
       "78.15535399628794"
      ]
     },
     "execution_count": 125,
     "metadata": {},
     "output_type": "execute_result"
    }
   ],
   "source": [
    "sharpe_msr= rk.portfolio_sharpe(r_msr, 0.03, vol_msr)\n",
    "sharpe_msr"
   ]
  }
 ],
 "metadata": {
  "kernelspec": {
   "display_name": "Python 3 (ipykernel)",
   "language": "python",
   "name": "python3"
  },
  "language_info": {
   "codemirror_mode": {
    "name": "ipython",
    "version": 3
   },
   "file_extension": ".py",
   "mimetype": "text/x-python",
   "name": "python",
   "nbconvert_exporter": "python",
   "pygments_lexer": "ipython3",
   "version": "3.10.9"
  }
 },
 "nbformat": 4,
 "nbformat_minor": 5
}
